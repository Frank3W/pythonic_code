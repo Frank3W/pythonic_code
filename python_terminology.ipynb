{
 "cells": [
  {
   "cell_type": "markdown",
   "metadata": {},
   "source": [
    "## Difference on Python function and method\n",
    "- It can tested by *inspec* module with functions: *isfunction* and *ismethod*\n",
    "- Method must be bounded with a class or class object (with it as an input). But static method is not a method but a function. It is not taking a class or a class object as an input"
   ]
  },
  {
   "cell_type": "code",
   "execution_count": 1,
   "metadata": {},
   "outputs": [
    {
     "name": "stdout",
     "output_type": "stream",
     "text": [
      "Python version 3.9.2\n"
     ]
    }
   ],
   "source": [
    "import sys\n",
    "print(f'Python version {sys.version_info.major}.{sys.version_info.minor}.{sys.version_info.micro}')"
   ]
  },
  {
   "cell_type": "code",
   "execution_count": 2,
   "metadata": {},
   "outputs": [],
   "source": [
    "import inspect\n",
    "class A:\n",
    "    value = 0\n",
    "    def __init__(self, data):\n",
    "        self.data = data\n",
    "    \n",
    "    def get(self):\n",
    "        return self.data\n",
    "    \n",
    "    @staticmethod\n",
    "    def add(x, y):\n",
    "        return x+y\n",
    "    \n",
    "    @classmethod\n",
    "    def inc(cls, v):\n",
    "        cls.value += v\n",
    "\n",
    "def get_self(data):\n",
    "    return data"
   ]
  },
  {
   "cell_type": "code",
   "execution_count": 3,
   "metadata": {},
   "outputs": [],
   "source": [
    "a_obj = A(1)"
   ]
  },
  {
   "cell_type": "code",
   "execution_count": 4,
   "metadata": {},
   "outputs": [
    {
     "name": "stdout",
     "output_type": "stream",
     "text": [
      "False\n",
      "True\n",
      "False\n",
      "True\n"
     ]
    }
   ],
   "source": [
    "print(inspect.ismethod(get_self))\n",
    "print(inspect.ismethod(a_obj.get))\n",
    "print(inspect.ismethod(A.add))\n",
    "print(inspect.ismethod(A.inc))"
   ]
  },
  {
   "cell_type": "code",
   "execution_count": 5,
   "metadata": {},
   "outputs": [
    {
     "name": "stdout",
     "output_type": "stream",
     "text": [
      "True\n",
      "False\n",
      "True\n",
      "False\n"
     ]
    }
   ],
   "source": [
    "print(inspect.isfunction(get_self))\n",
    "print(inspect.isfunction(a_obj.get))\n",
    "print(inspect.isfunction(A.add))\n",
    "print(inspect.isfunction(A.inc))"
   ]
  },
  {
   "cell_type": "markdown",
   "metadata": {},
   "source": [
    "## Python function \\_\\_new\\_\\_ vs \\_\\_init\\_\\_\n",
    "- \\_\\_new\\_\\_ is for creating an instance of the class but \\_\\_init\\_\\_ is for initializing that created instance from \\_\\_new\\_\\_ by setting values to its data fields.\n",
    "- \\_\\_new\\_\\_ is invoked before \\_\\_init\\_\\_ function.\n",
    "- \\_\\_new\\_\\_ only requires implementation in class definition for the exotic cases.\n",
    "- \\_\\_new\\_\\_ takes class (cls) as the first argument but \\_\\_init\\_\\_ takes class instance (self) as the first argument.\n",
    "- \\_\\_new\\_\\_ returns the created object but \\_\\_init\\_\\_ returns nothing."
   ]
  },
  {
   "cell_type": "code",
   "execution_count": 6,
   "metadata": {},
   "outputs": [],
   "source": [
    "# An example to implement __new__ to ensure only one instance created for the class.\n",
    "class Singleton:\n",
    "    _instance = None\n",
    "    \n",
    "    def __new__(cls, *args, **kwargs):\n",
    "        if cls._instance is None:\n",
    "            cls._instance = super(Singleton, cls).__new__(cls)\n",
    "        return cls._instance\n",
    "    \n",
    "    def __init__(self, name):\n",
    "        try:\n",
    "            singleton_name = self._instance.name\n",
    "            print(f'Name is already assigned for the singleton as {singleton_name}')\n",
    "        except AttributeError:\n",
    "            self._instance.name = name"
   ]
  },
  {
   "cell_type": "code",
   "execution_count": 7,
   "metadata": {},
   "outputs": [
    {
     "name": "stdout",
     "output_type": "stream",
     "text": [
      "Name is already assigned for the singleton as Hello\n"
     ]
    },
    {
     "data": {
      "text/plain": [
       "True"
      ]
     },
     "execution_count": 7,
     "metadata": {},
     "output_type": "execute_result"
    }
   ],
   "source": [
    "one_user = Singleton('Hello')\n",
    "second_user = Singleton('World')\n",
    "\n",
    "second_user is one_user"
   ]
  }
 ],
 "metadata": {
  "kernelspec": {
   "display_name": "Python 3.9.2 64-bit ('learning': conda)",
   "language": "python",
   "name": "python39264bitlearningcondac4e709d8e3604cb0afde7b1a37c3c499"
  },
  "language_info": {
   "codemirror_mode": {
    "name": "ipython",
    "version": 3
   },
   "file_extension": ".py",
   "mimetype": "text/x-python",
   "name": "python",
   "nbconvert_exporter": "python",
   "pygments_lexer": "ipython3",
   "version": "3.9.2"
  }
 },
 "nbformat": 4,
 "nbformat_minor": 5
}
