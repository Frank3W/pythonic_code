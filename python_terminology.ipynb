{
 "cells": [
  {
   "cell_type": "markdown",
   "id": "ed98cb16-7d58-4b32-9fd5-500ac78e05a8",
   "metadata": {},
   "source": [
    "## Difference on Python function and method\n",
    "- It can tested by *inspec* module with functions: *isfunction* and *ismethod*\n",
    "- Method must be bounded with a class or class object (with it as an input). But static method is not a method but a function. It is not taking a class or a class object as an input"
   ]
  },
  {
   "cell_type": "code",
   "execution_count": 1,
   "id": "560b5d10-5597-47c0-91cd-9e77558b3d39",
   "metadata": {},
   "outputs": [
    {
     "name": "stdout",
     "output_type": "stream",
     "text": [
      "Python version 3.8.10\n"
     ]
    }
   ],
   "source": [
    "import sys\n",
    "print(f'Python version {sys.version_info.major}.{sys.version_info.minor}.{sys.version_info.micro}')"
   ]
  },
  {
   "cell_type": "code",
   "execution_count": 2,
   "id": "fe5b003f-d20c-4d90-872f-54d37fb1d678",
   "metadata": {},
   "outputs": [],
   "source": [
    "import inspect\n",
    "class A:\n",
    "    value = 0\n",
    "    def __init__(self, data):\n",
    "        self.data = data\n",
    "    \n",
    "    def get(self):\n",
    "        return self.data\n",
    "    \n",
    "    @staticmethod\n",
    "    def add(x, y):\n",
    "        return x+y\n",
    "    \n",
    "    @classmethod\n",
    "    def inc(cls, v):\n",
    "        cls.value += v\n",
    "\n",
    "def get_self(data):\n",
    "    return data"
   ]
  },
  {
   "cell_type": "code",
   "execution_count": 3,
   "id": "18ae599a-c9dc-4ac1-97ce-b405eb1cfbba",
   "metadata": {},
   "outputs": [],
   "source": [
    "a_obj = A(1)"
   ]
  },
  {
   "cell_type": "code",
   "execution_count": 4,
   "id": "0bdae269-28f5-44e8-be07-dcce787bac0c",
   "metadata": {},
   "outputs": [
    {
     "name": "stdout",
     "output_type": "stream",
     "text": [
      "False\n",
      "True\n",
      "False\n",
      "True\n"
     ]
    }
   ],
   "source": [
    "print(inspect.ismethod(get_self))\n",
    "print(inspect.ismethod(a_obj.get))\n",
    "print(inspect.ismethod(A.add))\n",
    "print(inspect.ismethod(A.inc))"
   ]
  },
  {
   "cell_type": "code",
   "execution_count": 5,
   "id": "7f6a43d4-6897-47ec-9cdb-0c66ee6b0b74",
   "metadata": {},
   "outputs": [
    {
     "name": "stdout",
     "output_type": "stream",
     "text": [
      "True\n",
      "False\n",
      "True\n",
      "False\n"
     ]
    }
   ],
   "source": [
    "print(inspect.isfunction(get_self))\n",
    "print(inspect.isfunction(a_obj.get))\n",
    "print(inspect.isfunction(A.add))\n",
    "print(inspect.isfunction(A.inc))"
   ]
  }
 ],
 "metadata": {
  "kernelspec": {
   "display_name": "analytics",
   "language": "python",
   "name": "analytics"
  },
  "language_info": {
   "codemirror_mode": {
    "name": "ipython",
    "version": 3
   },
   "file_extension": ".py",
   "mimetype": "text/x-python",
   "name": "python",
   "nbconvert_exporter": "python",
   "pygments_lexer": "ipython3",
   "version": "3.8.10"
  }
 },
 "nbformat": 4,
 "nbformat_minor": 5
}
