{
 "cells": [
  {
   "cell_type": "code",
   "execution_count": 1,
   "metadata": {},
   "outputs": [],
   "source": [
    "def sep_print(n=10):\n",
    "    print('-'*n)"
   ]
  },
  {
   "cell_type": "markdown",
   "metadata": {},
   "source": [
    "#### Deep copy from an iterable to a list"
   ]
  },
  {
   "cell_type": "code",
   "execution_count": 2,
   "metadata": {
    "scrolled": true
   },
   "outputs": [
    {
     "name": "stdout",
     "output_type": "stream",
     "text": [
      "Resulting list [1, 2, 3]\n",
      "Poitning to same memory: False\n",
      "----------\n",
      "Resulting list [1, 2, 3]\n",
      "----------\n",
      "Resulting list [array([1, 2, 3]), array([4, 5, 6])]\n",
      "----------\n",
      "Resulting list ['a', 'b']\n"
     ]
    }
   ],
   "source": [
    "import numpy as np\n",
    "\n",
    "a = [1, 2, 3]\n",
    "b = list(a)\n",
    "print(f'Resulting list {b}')\n",
    "print(f'Poitning to same memory: {a is b}')\n",
    "sep_print()\n",
    "\n",
    "# iterating a numpy array\n",
    "a = np.array([1, 2, 3])\n",
    "b = list(a)\n",
    "print(f'Resulting list {b}')\n",
    "sep_print()\n",
    "\n",
    "# only take the outermost iterable\n",
    "a = np.array([[1, 2, 3], [4, 5, 6]])\n",
    "b = list(a)\n",
    "print(f'Resulting list {b}')\n",
    "sep_print()\n",
    "\n",
    "# iterating a dictionary is on keys\n",
    "a = {'a':1, 'b': 2}\n",
    "b = list(a)\n",
    "print(f'Resulting list {b}')"
   ]
  }
 ],
 "metadata": {
  "kernelspec": {
   "display_name": "Python 3.9.2 64-bit ('learning': conda)",
   "language": "python",
   "name": "python39264bitlearningcondac4e709d8e3604cb0afde7b1a37c3c499"
  },
  "language_info": {
   "codemirror_mode": {
    "name": "ipython",
    "version": 3
   },
   "file_extension": ".py",
   "mimetype": "text/x-python",
   "name": "python",
   "nbconvert_exporter": "python",
   "pygments_lexer": "ipython3",
   "version": "3.9.2"
  }
 },
 "nbformat": 4,
 "nbformat_minor": 4
}
