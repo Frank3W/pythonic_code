{
 "cells": [
  {
   "cell_type": "markdown",
   "metadata": {},
   "source": [
    "#### Deep copy from an iterable to a list"
   ]
  },
  {
   "cell_type": "code",
   "execution_count": 1,
   "metadata": {},
   "outputs": [],
   "source": [
    "def sep_print(n=10):\n",
    "    print('-'*n)"
   ]
  },
  {
   "cell_type": "code",
   "execution_count": 2,
   "metadata": {
    "scrolled": true
   },
   "outputs": [
    {
     "name": "stdout",
     "output_type": "stream",
     "text": [
      "Resulting list [1, 2, 3]\n",
      "Poitning to same memory: False\n",
      "----------\n",
      "Resulting list [1, 2, 3]\n",
      "----------\n",
      "Resulting list [array([1, 2, 3]), array([4, 5, 6])]\n",
      "----------\n",
      "Resulting list ['a', 'b']\n"
     ]
    }
   ],
   "source": [
    "import numpy as np\n",
    "\n",
    "a = [1, 2, 3]\n",
    "b = list(a)\n",
    "print(f'Resulting list {b}')\n",
    "print(f'Poitning to same memory: {a is b}')\n",
    "sep_print()\n",
    "\n",
    "# iterating a numpy array\n",
    "a = np.array([1, 2, 3])\n",
    "b = list(a)\n",
    "print(f'Resulting list {b}')\n",
    "sep_print()\n",
    "\n",
    "# only take the outermost iterable\n",
    "a = np.array([[1, 2, 3], [4, 5, 6]])\n",
    "b = list(a)\n",
    "print(f'Resulting list {b}')\n",
    "sep_print()\n",
    "\n",
    "# iterating a dictionary is on keys\n",
    "a = {'a':1, 'b': 2}\n",
    "b = list(a)\n",
    "print(f'Resulting list {b}')"
   ]
  },
  {
   "cell_type": "markdown",
   "metadata": {},
   "source": [
    "#### Get all function arguments"
   ]
  },
  {
   "cell_type": "code",
   "execution_count": 3,
   "metadata": {},
   "outputs": [
    {
     "name": "stdout",
     "output_type": "stream",
     "text": [
      "{'x': 1, 'y': 2}\n"
     ]
    }
   ],
   "source": [
    "def my_func(x, y):\n",
    "    # must be called at the very top\n",
    "    args_dict = locals()\n",
    "    print(args_dict)\n",
    "\n",
    "my_func(1, 2)"
   ]
  },
  {
   "cell_type": "markdown",
   "metadata": {},
   "source": [
    "#### Enforce abstract method implmenetation"
   ]
  },
  {
   "cell_type": "code",
   "execution_count": 4,
   "metadata": {},
   "outputs": [],
   "source": [
    "import abc\n",
    "\n",
    "class Base(metaclass=abc.ABCMeta):\n",
    "    @abc.abstractmethod\n",
    "    def fit(X, y):\n",
    "        pass\n",
    "\n",
    "    @abc.abstractmethod\n",
    "    def pred(X):\n",
    "        pass"
   ]
  },
  {
   "cell_type": "code",
   "execution_count": 5,
   "metadata": {},
   "outputs": [
    {
     "name": "stdout",
     "output_type": "stream",
     "text": [
      "Type error received due to unimplemneted abstract method.\n"
     ]
    }
   ],
   "source": [
    "class SubBase(Base):\n",
    "    def fit(X, y):\n",
    "        print('fitting X with respect to y')\n",
    "try:\n",
    "    SubBase()\n",
    "except TypeError:\n",
    "    print('Type error received due to unimplemneted abstract method.')"
   ]
  },
  {
   "cell_type": "markdown",
   "metadata": {},
   "source": [
    "#### Check if an object of a class"
   ]
  },
  {
   "cell_type": "code",
   "execution_count": 6,
   "metadata": {
    "scrolled": true
   },
   "outputs": [
    {
     "name": "stdout",
     "output_type": "stream",
     "text": [
      "True\n",
      "False\n"
     ]
    }
   ],
   "source": [
    "import collections\n",
    "from collections.abc import Sequence, Iterable\n",
    "import numpy as np\n",
    "\n",
    "# Iterable requires existence of method: __iter__\n",
    "print(isinstance(np.array([1, 2, 3]), Iterable))\n",
    "# Sequencey requires existence of methods: __getitem__, __len__, \n",
    "# __contains__, __iter__, __reversed__, index, and count\n",
    "print(isinstance(np.array([1, 2, 3]), Sequence))\n"
   ]
  }
 ],
 "metadata": {
  "kernelspec": {
   "display_name": "Python 3.9.2 64-bit ('learning': conda)",
   "language": "python",
   "name": "python39264bitlearningcondac4e709d8e3604cb0afde7b1a37c3c499"
  },
  "language_info": {
   "codemirror_mode": {
    "name": "ipython",
    "version": 3
   },
   "file_extension": ".py",
   "mimetype": "text/x-python",
   "name": "python",
   "nbconvert_exporter": "python",
   "pygments_lexer": "ipython3",
   "version": "3.9.2"
  }
 },
 "nbformat": 4,
 "nbformat_minor": 4
}
